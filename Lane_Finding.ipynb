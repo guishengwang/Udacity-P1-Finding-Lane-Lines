{
 "cells": [
  {
   "cell_type": "markdown",
   "metadata": {},
   "source": [
    "# Self-Driving Car Engineer Nanodegree\n",
    "\n",
    "\n",
    "## Project: **Finding Lane Lines on the Road** \n",
    "***\n",
    "In this project, you will use the tools you learned about in the lesson to identify lane lines on the road.  You can develop your pipeline on a series of individual images, and later apply the result to a video stream (really just a series of images). Check out the video clip \"raw-lines-example.mp4\" (also contained in this repository) to see what the output should look like after using the helper functions below. \n",
    "\n",
    "Once you have a result that looks roughly like \"raw-lines-example.mp4\", you'll need to get creative and try to average and/or extrapolate the line segments you've detected to map out the full extent of the lane lines.  You can see an example of the result you're going for in the video \"P1_example.mp4\".  Ultimately, you would like to draw just one line for the left side of the lane, and one for the right.\n",
    "\n",
    "In addition to implementing code, there is a brief writeup to complete. The writeup should be completed in a separate file, which can be either a markdown file or a pdf document. There is a [write up template](https://github.com/udacity/CarND-LaneLines-P1/blob/master/writeup_template.md) that can be used to guide the writing process. Completing both the code in the Ipython notebook and the writeup template will cover all of the [rubric points](https://review.udacity.com/#!/rubrics/322/view) for this project.\n",
    "\n",
    "---\n",
    "Let's have a look at our first image called 'test_images/solidWhiteRight.jpg'.  Run the 2 cells below (hit Shift-Enter or the \"play\" button above) to display the image.\n",
    "\n",
    "**Note: If, at any point, you encounter frozen display windows or other confounding issues, you can always start again with a clean slate by going to the \"Kernel\" menu above and selecting \"Restart & Clear Output\".**\n",
    "\n",
    "---"
   ]
  },
  {
   "cell_type": "markdown",
   "metadata": {},
   "source": [
    "**The tools you have are color selection, region of interest selection, grayscaling, Gaussian smoothing, Canny Edge Detection and Hough Tranform line detection.  You  are also free to explore and try other techniques that were not presented in the lesson.  Your goal is piece together a pipeline to detect the line segments in the image, then average/extrapolate them and draw them onto the image for display (as below).  Once you have a working pipeline, try it out on the video stream below.**\n",
    "\n",
    "---\n",
    "\n",
    "<figure>\n",
    " <img src=\"examples/line-segments-example.jpg\" width=\"380\" alt=\"Combined Image\" />\n",
    " <figcaption>\n",
    " <p></p> \n",
    " <p style=\"text-align: center;\"> Your output should look something like this (above) after detecting line segments using the helper functions below </p> \n",
    " </figcaption>\n",
    "</figure>\n",
    " <p></p> \n",
    "<figure>\n",
    " <img src=\"examples/laneLines_thirdPass.jpg\" width=\"380\" alt=\"Combined Image\" />\n",
    " <figcaption>\n",
    " <p></p> \n",
    " <p style=\"text-align: center;\"> Your goal is to connect/average/extrapolate line segments to get output like this</p> \n",
    " </figcaption>\n",
    "</figure>"
   ]
  },
  {
   "cell_type": "markdown",
   "metadata": {},
   "source": [
    "**Run the cell below to import some packages.  If you get an `import error` for a package you've already installed, try changing your kernel (select the Kernel menu above --> Change Kernel).  Still have problems?  Try relaunching Jupyter Notebook from the terminal prompt.  Also, consult the forums for more troubleshooting tips.**  "
   ]
  },
  {
   "cell_type": "markdown",
   "metadata": {},
   "source": [
    "## Import Packages"
   ]
  },
  {
   "cell_type": "code",
   "execution_count": 10,
   "metadata": {},
   "outputs": [],
   "source": [
    "#importing some useful packages\n",
    "import matplotlib.pyplot as plt\n",
    "import matplotlib.image as mpimg\n",
    "import numpy as np\n",
    "import cv2\n",
    "%matplotlib inline"
   ]
  },
  {
   "cell_type": "markdown",
   "metadata": {},
   "source": [
    "## Read in an Image"
   ]
  },
  {
   "cell_type": "code",
   "execution_count": 11,
   "metadata": {
    "scrolled": true
   },
   "outputs": [
    {
     "name": "stdout",
     "output_type": "stream",
     "text": [
      "This image is: <class 'numpy.ndarray'> with dimensions: (540, 960, 3)\n"
     ]
    }
   ],
   "source": [
    "#reading in an image\n",
    "image = mpimg.imread('test_images/solidWhiteRight.jpg')\n",
    "\n",
    "#printing out some stats and plotting\n",
    "print('This image is:', type(image), 'with dimensions:', image.shape)\n"
   ]
  },
  {
   "cell_type": "markdown",
   "metadata": {},
   "source": [
    "## Ideas for Lane Detection Pipeline"
   ]
  },
  {
   "cell_type": "markdown",
   "metadata": {},
   "source": [
    "**Some OpenCV functions (beyond those introduced in the lesson) that might be useful for this project are:**\n",
    "\n",
    "`cv2.inRange()` for color selection  \n",
    "`cv2.fillPoly()` for regions selection  \n",
    "`cv2.line()` to draw lines on an image given endpoints  \n",
    "`cv2.addWeighted()` to coadd / overlay two images\n",
    "`cv2.cvtColor()` to grayscale or change color\n",
    "`cv2.imwrite()` to output images to file  \n",
    "`cv2.bitwise_and()` to apply a mask to an image\n",
    "\n",
    "**Check out the OpenCV documentation to learn about these and discover even more awesome functionality!**"
   ]
  },
  {
   "cell_type": "markdown",
   "metadata": {},
   "source": [
    "## Helper Functions"
   ]
  },
  {
   "cell_type": "markdown",
   "metadata": {},
   "source": [
    "Below are some helper functions to help get you started. They should look familiar from the lesson!"
   ]
  },
  {
   "cell_type": "code",
   "execution_count": 12,
   "metadata": {},
   "outputs": [],
   "source": [
    "import math\n",
    "from scipy import stats\n",
    "\n",
    "slope_left_pre=0\n",
    "slope_left_test=0\n",
    "inter_left_pre=0\n",
    "slope_right_pre=0\n",
    "slope_right_test=0\n",
    "inter_right_pre=0\n",
    "y2_pre=0\n",
    "i_frame=0\n",
    "i_test=\"NULL\"\n",
    "\n",
    "def grayscale(img):\n",
    "    \"\"\"Applies the Grayscale transform\n",
    "    This will return an image with only one color channel\n",
    "    but NOTE: to see the returned image as grayscale\n",
    "    (assuming your grayscaled image is called 'gray')\n",
    "    you should call plt.imshow(gray, cmap='gray')\"\"\"\n",
    "    return cv2.cvtColor(img, cv2.COLOR_RGB2GRAY)\n",
    "    # Or use BGR2GRAY if you read an image with cv2.imread()\n",
    "    # return cv2.cvtColor(img, cv2.COLOR_BGR2GRAY)\n",
    "    \n",
    "def canny(img, low_threshold, high_threshold):\n",
    "    \"\"\"Applies the Canny transform\"\"\"\n",
    "    return cv2.Canny(img, low_threshold, high_threshold)\n",
    "\n",
    "def gaussian_blur(img, kernel_size):\n",
    "    \"\"\"Applies a Gaussian Noise kernel\"\"\"\n",
    "    return cv2.GaussianBlur(img, (kernel_size, kernel_size), 0)\n",
    "\n",
    "def region_of_interest(img, vertices):\n",
    "    \"\"\"\n",
    "    Applies an image mask.\n",
    "    \n",
    "    Only keeps the region of the image defined by the polygon\n",
    "    formed from `vertices`. The rest of the image is set to black.\n",
    "    `vertices` should be a numpy array of integer points.\n",
    "    \"\"\"\n",
    "    #defining a blank mask to start with\n",
    "    mask = np.zeros_like(img)   \n",
    "    \n",
    "    #defining a 3 channel or 1 channel color to fill the mask with depending on the input image\n",
    "    if len(img.shape) > 2:\n",
    "        channel_count = img.shape[2]  # i.e. 3 or 4 depending on your image\n",
    "        ignore_mask_color = (255,) * channel_count\n",
    "    else:\n",
    "        ignore_mask_color = 255\n",
    "        \n",
    "    #filling pixels inside the polygon defined by \"vertices\" with the fill color    \n",
    "    cv2.fillPoly(mask, [vertices], ignore_mask_color)\n",
    "    \n",
    "    #returning the image only where mask pixels are nonzero\n",
    "    masked_image = cv2.bitwise_and(img, mask)\n",
    "    return masked_image\n",
    "\n",
    "\n",
    "# this is an updated function to draw connected lines           \n",
    "def draw_whole_lines(img, lines,mask_list,color=[255, 0, 0], thickness=8):\n",
    "\n",
    "    \"\"\"\n",
    "    NOTE: this is the function you might want to use as a starting point once you want to \n",
    "    average/extrapolate the line segments you detect to map out the full\n",
    "    extent of the lane (going from the result shown in raw-lines-example.mp4\n",
    "    to that shown in P1_example.mp4).  \n",
    "    \n",
    "    Think about things like separating line segments by their \n",
    "    slope ((y2-y1)/(x2-x1)) to decide which segments are part of the left\n",
    "    line vs. the right line.  Then, you can average the position of each of \n",
    "    the lines and extrapolate to the top and bottom of the lane.\n",
    "    \n",
    "    This function draws `lines` with `color` and `thickness`.    \n",
    "    Lines are drawn on the image inplace (mutates the image).\n",
    "    If you want to make the lines semi-transparent, think about combining\n",
    "    this function with the weighted_img() function below\n",
    "    \n",
    "    \"\"\"\n",
    "    \n",
    "    global slope_left_pre\n",
    "    global slope_left_test\n",
    "    global inter_left_pre\n",
    "    global slope_right_pre\n",
    "    global slope_right_test\n",
    "    global inter_right_pre\n",
    "    global y2_pre\n",
    "    global i_frame\n",
    "    global i_test\n",
    "    \n",
    "    x_left=[]\n",
    "    y_left=[]\n",
    "    x_right=[]\n",
    "    y_right=[]\n",
    "\n",
    "    for line in lines:\n",
    "        x1, y1, x2, y2 = line[0]\n",
    "        k = (y2 - y1) / (x2 - x1)\n",
    "        b = y1 - k * x1\n",
    "        if k < 0 and k > -1 and b < 1500 and b>500: # left lane\n",
    "            x_left.append(x1)\n",
    "            x_left.append(x2)\n",
    "            y_left.append(y1)\n",
    "            y_left.append(y2)\n",
    "        elif k > 0 and k < 1 and b > -100:  #right lane\n",
    "            x_right.append(x1)\n",
    "            x_right.append(x2)\n",
    "            y_right.append(y1)\n",
    "            y_right.append(y2)\n",
    "\n",
    "    # finding slope and interception\n",
    "   # try:\n",
    "           \n",
    "    if x_left:\n",
    "        slope_left, inter_left, r_value, p_value, std_err = stats.linregress(x_left,y_left)\n",
    "        if i_frame>0:\n",
    "            if slope_left<slope_left_pre-0.3*abs(slope_left_pre) or slope_left>slope_left_pre+0.3*abs(slope_left_pre) :\n",
    "                slope_left=slope_left_pre\n",
    "                inter_left=inter_left_pre\n",
    "            elif slope_left<slope_left_pre-0.15*abs(slope_left_pre) or slope_left>slope_left_pre+0.15*abs(slope_left_pre) :\n",
    "                slope_left=(slope_left_pre+slope_left)/2\n",
    "                inter_left=(inter_left_pre+inter_left)/2\n",
    "        slope_left_pre=slope_left\n",
    "        inter_left_pre=inter_left\n",
    "    else:\n",
    "        if i_frame>0:\n",
    "            slope_left=slope_left_pre\n",
    "            inter_left=inter_left_pre\n",
    "    y1= img.shape[0]\n",
    "    x1= int((y1-inter_left)/slope_left)\n",
    "    y2= mask_list[1][1]\n",
    "    x2= int((y2-inter_left)/slope_left)\n",
    "    cv2.line(img, (x1, y1), (x2, y2), color, thickness)\n",
    "\n",
    "\n",
    "    if x_right:\n",
    "        slope_right, inter_right, r_value, p_value, std_err = stats.linregress(x_right,y_right)\n",
    "        if i_frame>0:\n",
    "            if slope_right<slope_right_pre-0.3*abs(slope_right_pre) or slope_right>slope_right_pre+0.3*abs(slope_right_pre)  :\n",
    "                slope_right=slope_right_pre\n",
    "                inter_right=inter_right_pre\n",
    "            elif slope_right<slope_right_pre-0.15*abs(slope_right_pre) or slope_right>slope_right_pre+0.15*abs(slope_right_pre) :\n",
    "                slope_right=(slope_right_pre+slope_right)/2\n",
    "                inter_right=(inter_right_pre+inter_right)/2\n",
    "        slope_right_pre=slope_right\n",
    "        inter_right_pre=inter_right\n",
    "    else:\n",
    "        if i_frame>0:\n",
    "            slope_right=slope_right_pre\n",
    "            inter_right=inter_right_pre\n",
    "\n",
    "    y1= img.shape[0]\n",
    "    x1= int((y1-inter_right)/slope_right)\n",
    "    y2= mask_list[2][1]\n",
    "    x2= int((y2-inter_right)/slope_right)\n",
    "    cv2.line(img, (x1, y1), (x2, y2), color, thickness)  \n",
    "\n",
    "  #  except:\n",
    "  #      pass\n",
    "    i_frame+=1\n",
    "\n",
    "         \n",
    "\n",
    "def hough_lines(img, rho, theta, threshold, min_line_len, max_line_gap,mask_list):\n",
    "    \"\"\"\n",
    "    `img` should be the output of a Canny transform.\n",
    "        \n",
    "    Returns an image with hough lines drawn.\n",
    "    \"\"\"\n",
    "    lines = cv2.HoughLinesP(img, rho, theta, threshold, np.array([]), minLineLength=min_line_len, maxLineGap=max_line_gap)\n",
    "    line_img = np.zeros((img.shape[0], img.shape[1], 3), dtype=np.uint8)\n",
    "    draw_whole_lines(line_img,lines,mask_list)\n",
    "    return line_img\n",
    "\n",
    "# Python 3 has support for cool math symbols.\n",
    "\n",
    "def weighted_img(img, initial_img, α=0.8, β=1., γ=0.):\n",
    "    \"\"\"\n",
    "    `img` is the output of the hough_lines(), An image with lines drawn on it.\n",
    "    Should be a blank image (all black) with lines drawn on it.\n",
    "    \n",
    "    `initial_img` should be the image before any processing.\n",
    "    \n",
    "    The result image is computed as follows:\n",
    "    \n",
    "    initial_img * α + img * β + γ\n",
    "    NOTE: initial_img and img must be the same shape!\n",
    "    \"\"\"\n",
    "    return cv2.addWeighted(initial_img, α, img, β, γ)\n",
    "\n"
   ]
  },
  {
   "cell_type": "markdown",
   "metadata": {},
   "source": [
    "## Test Images\n",
    "\n",
    "Build your pipeline to work on the images in the directory \"test_images\"  \n",
    "**You should make sure your pipeline works well on these images before you try the videos.**"
   ]
  },
  {
   "cell_type": "code",
   "execution_count": 13,
   "metadata": {},
   "outputs": [],
   "source": [
    "import os\n",
    "os.listdir(\"test_images/\")\n",
    "test_img = os.listdir('test_images/')\n",
    "\n"
   ]
  },
  {
   "cell_type": "markdown",
   "metadata": {},
   "source": [
    "## Build a Lane Finding Pipeline\n",
    "\n"
   ]
  },
  {
   "cell_type": "markdown",
   "metadata": {},
   "source": [
    "Build the pipeline and run your solution on all test_images. Make copies into the `test_images_output` directory, and you can use the images in your writeup report.\n",
    "\n",
    "Try tuning the various parameters, especially the low and high Canny thresholds as well as the Hough lines parameters."
   ]
  },
  {
   "cell_type": "code",
   "execution_count": 14,
   "metadata": {},
   "outputs": [
    {
     "data": {
      "image/png": "[encoded data removed]",
      "text/plain": [
       "<Figure size 432x288 with 1 Axes>"
      ]
     },
     "metadata": {
      "needs_background": "light"
     },
     "output_type": "display_data"
    }
   ],
   "source": [
    "# TODO: Build your pipeline that will draw lane lines on the test_images\n",
    "# then save them to the test_images_output directory.\n",
    "\n",
    "    \n",
    "def finding_lane_lines(image, mask_list):\n",
    "\n",
    "    #  make a copy of the image\n",
    "    line_image = np.copy(image)\n",
    "    # convert to grayscale\n",
    "    gray = grayscale(line_image)\n",
    "    # Define a kernel size for Gaussian smoothing / blurring\n",
    "    kernel_size = 3\n",
    "    blur_gray=gaussian_blur(gray, kernel_size)\n",
    "    # Define parameters for Canny and run it\n",
    "    low_threshold = 70\n",
    "    high_threshold = 150\n",
    "    edges = canny(blur_gray, low_threshold, high_threshold)\n",
    "    # Define the vertices of a mask.\n",
    "    ysize = image.shape[0]\n",
    "    xsize = image.shape[1]\n",
    "    vertices=np.array(mask_list)\n",
    "    masked_edges=region_of_interest(edges,vertices)\n",
    "    # Define the Hough transform parameters\n",
    "    # Make a blank the same size as our image to draw on\n",
    "    rho = 2\n",
    "    theta = np.pi/180\n",
    "    threshold = 5\n",
    "    min_line_length = 100\n",
    "    max_line_gap = 50\n",
    "    lines = hough_lines(masked_edges, rho, theta, threshold, min_line_length, max_line_gap, mask_list)\n",
    "    # Draw the lines on the edge image\n",
    "    combo =weighted_img(lines, image, α=0.8, β=1., γ=0.)  \n",
    "    return combo\n",
    "\n",
    "    \n",
    "for image_name in test_img:\n",
    "    global i_frame\n",
    "    i_frame=0\n",
    "    image = mpimg.imread(\"test_images/\"+image_name)\n",
    "    ysize = image.shape[0]\n",
    "    xsize = image.shape[1]\n",
    "    mask_list=[[130,ysize],[455,320],[515,320],[910,ysize]]\n",
    "    \n",
    "    combo=finding_lane_lines(image,mask_list)\n",
    "    #cv2.line(combo, (130,ysize), (455,320), [0, 0, 255], 2)\n",
    "    #cv2.line(combo, (455,320), (515,320), [0, 0, 255], 2)\n",
    "    #cv2.line(combo, (515,320), (910,ysize), [0, 0, 255], 2)\n",
    "    plt.imshow(combo)\n",
    "    plt.imsave(\"test_images_output/output_\"+image_name+\"\",combo)\n",
    "    #print(slope_left_pre)\n"
   ]
  },
  {
   "cell_type": "markdown",
   "metadata": {},
   "source": [
    "## Test on Videos\n",
    "\n",
    "You know what's cooler than drawing lanes over images? Drawing lanes over video!\n",
    "\n",
    "We can test our solution on two provided videos:\n",
    "\n",
    "`solidWhiteRight.mp4`\n",
    "\n",
    "`solidYellowLeft.mp4`\n",
    "\n",
    "**Note: if you get an import error when you run the next cell, try changing your kernel (select the Kernel menu above --> Change Kernel). Still have problems? Try relaunching Jupyter Notebook from the terminal prompt. Also, consult the forums for more troubleshooting tips.**\n",
    "\n",
    "**If you get an error that looks like this:**\n",
    "```\n",
    "NeedDownloadError: Need ffmpeg exe. \n",
    "You can download it by calling: \n",
    "imageio.plugins.ffmpeg.download()\n",
    "```\n",
    "**Follow the instructions in the error message and check out [this forum post](https://discussions.udacity.com/t/project-error-of-test-on-videos/274082) for more troubleshooting tips across operating systems.**"
   ]
  },
  {
   "cell_type": "code",
   "execution_count": 16,
   "metadata": {},
   "outputs": [],
   "source": [
    "# Import everything needed to edit/save/watch video clips\n",
    "from moviepy.editor import VideoFileClip\n",
    "from IPython.display import HTML"
   ]
  },
  {
   "cell_type": "code",
   "execution_count": 17,
   "metadata": {},
   "outputs": [],
   "source": [
    "\n",
    "def process_image(image):\n",
    "\n",
    "    # NOTE: The output you return should be a color image (3 channel) for processing video below\n",
    "    # TODO: put your pipeline here,\n",
    "    # you should return the final output (image where lines are drawn on lanes)\n",
    "    #  make a copy of the image\n",
    "    ysize = image.shape[0]\n",
    "    xsize = image.shape[1]\n",
    "    mask_list=[[130,ysize],[455,320],[515,320],[910,ysize]]\n",
    "    combo=finding_lane_lines(image,mask_list)   \n",
    "    #cv2.line(combo, (130,ysize), (455,320), [0, 0, 255], 2)\n",
    "    #cv2.line(combo, (455,320), (515,320), [0, 0, 255], 2)\n",
    "    #cv2.line(combo, (515,320), (910,ysize), [0, 0, 255], 2)\n",
    "    return combo\n",
    "\n",
    "def process_image_2(image):\n",
    "\n",
    "    # NOTE: The output you return should be a color image (3 channel) for processing video below\n",
    "    # TODO: put your pipeline here,\n",
    "    # you should return the final output (image where lines are drawn on lanes)\n",
    "    #  make a copy of the image\n",
    "    hsv = cv2.cvtColor(image, cv2.COLOR_RGB2HSV)\n",
    "        \n",
    "    lower_yellow = np.array([20, 100, 100])\n",
    "    upper_yellow = np.array([40, 255, 255])\n",
    "    yellow_mask = cv2.inRange(hsv, lower_yellow, upper_yellow)\n",
    "    \n",
    "    lower_white = np.array([0, 0, 215])\n",
    "    upper_white = np.array([180, 40, 255])\n",
    "    white_mask = cv2.inRange(hsv, lower_white, upper_white)\n",
    "    \n",
    "    color_mask = cv2.bitwise_or(yellow_mask, white_mask)\n",
    "    \n",
    "    gray_img = grayscale(image) # convert to gray image    \n",
    "    \n",
    "    darken = (gray_img / 3).astype(np.uint8)\n",
    "    gray = cv2.bitwise_or(darken, color_mask)\n",
    "    \n",
    "    # Define a kernel size for Gaussian smoothing / blurring\n",
    "    kernel_size = 3\n",
    "    blur_gray=gaussian_blur(gray, kernel_size)\n",
    "    # Define parameters for Canny and run it\n",
    "    low_threshold = 70\n",
    "    high_threshold = 150\n",
    "    edges = canny(blur_gray, low_threshold, high_threshold)\n",
    "    \n",
    "    \n",
    "    ysize = image.shape[0]\n",
    "    xsize = image.shape[1]\n",
    "    mask_list=[[130,ysize],[455,320],[515,320],[910,ysize]]\n",
    "    vertices=np.array(mask_list)\n",
    "    masked_edges=region_of_interest(edges,vertices)\n",
    "    # Define the Hough transform parameters\n",
    "    # Make a blank the same size as our image to draw on\n",
    "    rho = 2\n",
    "    theta = np.pi/180\n",
    "    threshold = 5\n",
    "    min_line_length = 100\n",
    "    max_line_gap = 50\n",
    "    # Draw the lines on the edge image\n",
    "    lines = hough_lines(masked_edges, rho, theta, threshold, min_line_length, max_line_gap,mask_list)\n",
    "    combo =weighted_img(lines, image, α=0.8, β=1., γ=0.)  \n",
    "    #cv2.line(combo, (130,ysize), (455,320), [0, 0, 255], 2)\n",
    "    #cv2.line(combo, (455,320), (515,320), [0, 0, 255], 2)\n",
    "    #cv2.line(combo, (515,320), (910,ysize), [0, 0, 255], 2)\n",
    "    return combo\n",
    "\n",
    "\n",
    "\n",
    "def challenge_image(image):\n",
    "    # NOTE: The output you return should be a color image (3 channel) for processing video below\n",
    "    # TODO: put your pipeline here,\n",
    "    # you should return the final output (image where lines are drawn on lanes)\n",
    "    #  make a copy of the image\n",
    "\n",
    "\n",
    "    hsv = cv2.cvtColor(image, cv2.COLOR_RGB2HSV)\n",
    "        \n",
    "    lower_yellow = np.array([20, 100, 100])\n",
    "    upper_yellow = np.array([40, 255, 255])\n",
    "    yellow_mask = cv2.inRange(hsv, lower_yellow, upper_yellow)\n",
    "    \n",
    "    lower_white = np.array([0, 0, 215])\n",
    "    upper_white = np.array([180, 40, 255])\n",
    "    white_mask = cv2.inRange(hsv, lower_white, upper_white)\n",
    "    \n",
    "    color_mask = cv2.bitwise_or(yellow_mask, white_mask)\n",
    "    \n",
    "    gray_img = grayscale(image) # convert to gray image    \n",
    "    \n",
    "    darken = (gray_img / 3).astype(np.uint8)\n",
    "    gray = cv2.bitwise_or(darken, color_mask)\n",
    "\n",
    "    \n",
    "    \n",
    "    # Define a kernel size for Gaussian smoothing / blurring\n",
    "    kernel_size = 3\n",
    "    blur_gray=gaussian_blur(gray, kernel_size)\n",
    "    # Define parameters for Canny and run it\n",
    "    low_threshold = 70\n",
    "    high_threshold = 150\n",
    "    edges = canny(blur_gray, low_threshold, high_threshold)\n",
    "    # Define the vertices of a mask.\n",
    "    ysize = image.shape[0]-50\n",
    "    xsize = image.shape[1]\n",
    "    x1=220\n",
    "    x2=615\n",
    "    y2=430\n",
    "    x3=710\n",
    "    y3=430\n",
    "    x4=1100\n",
    "    mask_list=[[x1,ysize],[x2,y2],[x3,y3],[x4,ysize]]\n",
    "    vertices=np.array(mask_list)\n",
    "    masked_edges=region_of_interest(edges,vertices)\n",
    "    # Define the Hough transform parameters\n",
    "    # Make a blank the same size as our image to draw on\n",
    "    rho = 2\n",
    "    theta = np.pi/180\n",
    "    threshold = 5\n",
    "    min_line_length = 100\n",
    "    max_line_gap = 50\n",
    "    lines = hough_lines(masked_edges, rho, theta, threshold, min_line_length, max_line_gap, mask_list)\n",
    "    # Draw the lines on the edge image\n",
    "    combo =weighted_img(lines, image, α=0.8, β=1., γ=0.)  \n",
    "\n",
    "    #cv2.line(combo, (x1,ysize), (x2,y2), [0, 0, 255], 2) \n",
    "    #cv2.line(combo, (x2,y2), (x3,y3), [0, 0, 255], 2) \n",
    "    #cv2.line(combo, (x3,y3), (x4,ysize), [0, 0, 255], 2) \n",
    "\n",
    "    return combo\n"
   ]
  },
  {
   "cell_type": "markdown",
   "metadata": {},
   "source": [
    "Let's try the one with the solid white lane on the right first ..."
   ]
  },
  {
   "cell_type": "code",
   "execution_count": 18,
   "metadata": {},
   "outputs": [
    {
     "name": "stderr",
     "output_type": "stream",
     "text": [
      "t:   3%|██▏                                                                               | 6/221 [00:00<00:03, 57.15it/s, now=None]"
     ]
    },
    {
     "name": "stdout",
     "output_type": "stream",
     "text": [
      "Moviepy - Building video test_videos_output/solidWhiteRight.mp4.\n",
      "Moviepy - Writing video test_videos_output/solidWhiteRight.mp4\n",
      "\n"
     ]
    },
    {
     "name": "stderr",
     "output_type": "stream",
     "text": [
      "                                                                                                                                    \r"
     ]
    },
    {
     "name": "stdout",
     "output_type": "stream",
     "text": [
      "Moviepy - Done !\n",
      "Moviepy - video ready test_videos_output/solidWhiteRight.mp4\n",
      "Wall time: 4.71 s\n",
      "frame= 222\n"
     ]
    }
   ],
   "source": [
    "white_output = 'test_videos_output/solidWhiteRight.mp4'\n",
    "## To speed up the testing process you may want to try your pipeline on a shorter subclip of the video\n",
    "## To do so add .subclip(start_second,end_second) to the end of the line below\n",
    "## Where start_second and end_second are integer values representing the start and end of the subclip\n",
    "## You may also uncomment the following line for a subclip of the first 5 seconds\n",
    "##clip1 = VideoFileClip(\"test_videos/solidWhiteRight.mp4\").subclip(0,5)\n",
    "\n",
    "i_frame=0\n",
    "clip1 = VideoFileClip(\"test_videos/solidWhiteRight.mp4\")\n",
    "white_clip = clip1.fl_image(process_image) #NOTE: this function expects color images!!\n",
    "%time white_clip.write_videofile(white_output, audio=False)\n",
    "print(\"frame=\",i_frame)"
   ]
  },
  {
   "cell_type": "markdown",
   "metadata": {},
   "source": [
    "Play the video inline, or if you prefer find the video in your filesystem (should be in the same directory) and play it in your video player of choice."
   ]
  },
  {
   "cell_type": "code",
   "execution_count": 19,
   "metadata": {},
   "outputs": [
    {
     "data": {
      "text/html": [
       "\n",
       "<video width=\"960\" height=\"540\" controls>\n",
       "  <source src=\"test_videos_output/solidWhiteRight.mp4\">\n",
       "</video>\n"
      ],
      "text/plain": [
       "<IPython.core.display.HTML object>"
      ]
     },
     "execution_count": 19,
     "metadata": {},
     "output_type": "execute_result"
    }
   ],
   "source": [
    "HTML(\"\"\"\n",
    "<video width=\"960\" height=\"540\" controls>\n",
    "  <source src=\"{0}\">\n",
    "</video>\n",
    "\"\"\".format(white_output))\n"
   ]
  },
  {
   "cell_type": "markdown",
   "metadata": {},
   "source": [
    "## Improve the draw_lines() function\n",
    "\n",
    "**At this point, if you were successful with making the pipeline and tuning parameters, you probably have the Hough line segments drawn onto the road, but what about identifying the full extent of the lane and marking it clearly as in the example video (P1_example.mp4)?  Think about defining a line to run the full length of the visible lane based on the line segments you identified with the Hough Transform. As mentioned previously, try to average and/or extrapolate the line segments you've detected to map out the full extent of the lane lines. You can see an example of the result you're going for in the video \"P1_example.mp4\".**\n",
    "\n",
    "**Go back and modify your draw_lines function accordingly and try re-running your pipeline. The new output should draw a single, solid line over the left lane line and a single, solid line over the right lane line. The lines should start from the bottom of the image and extend out to the top of the region of interest.**"
   ]
  },
  {
   "cell_type": "markdown",
   "metadata": {},
   "source": [
    "Now for the one with the solid yellow lane on the left. This one's more tricky!"
   ]
  },
  {
   "cell_type": "code",
   "execution_count": 20,
   "metadata": {},
   "outputs": [
    {
     "name": "stderr",
     "output_type": "stream",
     "text": [
      "t:   1%|▌                                                                                 | 5/681 [00:00<00:13, 49.02it/s, now=None]"
     ]
    },
    {
     "name": "stdout",
     "output_type": "stream",
     "text": [
      "Moviepy - Building video test_videos_output/solidYellowLeft.mp4.\n",
      "Moviepy - Writing video test_videos_output/solidYellowLeft.mp4\n",
      "\n"
     ]
    },
    {
     "name": "stderr",
     "output_type": "stream",
     "text": [
      "                                                                                                                                    \r"
     ]
    },
    {
     "name": "stdout",
     "output_type": "stream",
     "text": [
      "Moviepy - Done !\n",
      "Moviepy - video ready test_videos_output/solidYellowLeft.mp4\n",
      "Wall time: 17.2 s\n",
      "frame= 682\n"
     ]
    }
   ],
   "source": [
    "\n",
    "yellow_output = 'test_videos_output/solidYellowLeft.mp4'\n",
    "## To speed up the testing process you may want to try your pipeline on a shorter subclip of the video\n",
    "## To do so add .subclip(start_second,end_second) to the end of the line below\n",
    "## Where start_second and end_second are integer values representing the start and end of the subclip\n",
    "## You may also uncomment the following line for a subclip of the first 5 seconds\n",
    "#clip2 = VideoFileClip('test_videos/solidYellowLeft.mp4').subclip(0,5)\n",
    "\n",
    "i_frame=0\n",
    "clip2 = VideoFileClip('test_videos/solidYellowLeft.mp4')\n",
    "yellow_clip = clip2.fl_image(process_image_2)\n",
    "%time yellow_clip.write_videofile(yellow_output, audio=False)\n",
    "print(\"frame=\",i_frame)"
   ]
  },
  {
   "cell_type": "code",
   "execution_count": 21,
   "metadata": {},
   "outputs": [
    {
     "data": {
      "text/html": [
       "\n",
       "<video width=\"960\" height=\"540\" controls>\n",
       "  <source src=\"test_videos_output/solidYellowLeft.mp4\">\n",
       "</video>\n"
      ],
      "text/plain": [
       "<IPython.core.display.HTML object>"
      ]
     },
     "execution_count": 21,
     "metadata": {},
     "output_type": "execute_result"
    }
   ],
   "source": [
    "HTML(\"\"\"\n",
    "<video width=\"960\" height=\"540\" controls>\n",
    "  <source src=\"{0}\">\n",
    "</video>\n",
    "\"\"\".format(yellow_output))\n"
   ]
  },
  {
   "cell_type": "markdown",
   "metadata": {},
   "source": [
    "## Writeup and Submission\n",
    "\n",
    "If you're satisfied with your video outputs, it's time to make the report writeup in a pdf or markdown file. Once you have this Ipython notebook ready along with the writeup, it's time to submit for review! Here is a [link](https://github.com/udacity/CarND-LaneLines-P1/blob/master/writeup_template.md) to the writeup template file.\n"
   ]
  },
  {
   "cell_type": "markdown",
   "metadata": {
    "collapsed": true
   },
   "source": [
    "## Optional Challenge\n",
    "\n",
    "Try your lane finding pipeline on the video below.  Does it still work?  Can you figure out a way to make it more robust?  If you're up for the challenge, modify your pipeline so it works with this video and submit it along with the rest of your project!"
   ]
  },
  {
   "cell_type": "code",
   "execution_count": 22,
   "metadata": {},
   "outputs": [
    {
     "name": "stderr",
     "output_type": "stream",
     "text": [
      "t:   2%|█▎                                                                                | 4/251 [00:00<00:06, 35.71it/s, now=None]"
     ]
    },
    {
     "name": "stdout",
     "output_type": "stream",
     "text": [
      "Moviepy - Building video test_videos_output/challenge.mp4.\n",
      "Moviepy - Writing video test_videos_output/challenge.mp4\n",
      "\n"
     ]
    },
    {
     "name": "stderr",
     "output_type": "stream",
     "text": [
      "                                                                                                                                    \r"
     ]
    },
    {
     "name": "stdout",
     "output_type": "stream",
     "text": [
      "Moviepy - Done !\n",
      "Moviepy - video ready test_videos_output/challenge.mp4\n",
      "Wall time: 11.9 s\n"
     ]
    }
   ],
   "source": [
    "challenge_output = 'test_videos_output/challenge.mp4'\n",
    "## To speed up the testing process you may want to try your pipeline on a shorter subclip of the video\n",
    "## To do so add .subclip(start_second,end_second) to the end of the line below\n",
    "## Where start_second and end_second are integer values representing the start and end of the subclip\n",
    "## You may also uncomment the following line for a subclip of the first 5 seconds\n",
    "#clip3 = VideoFileClip('test_videos/challenge.mp4').subclip(0,0.1)\n",
    "i_frame=0\n",
    "clip3 = VideoFileClip('test_videos/challenge.mp4')\n",
    "challenge_clip = clip3.fl_image(challenge_image)\n",
    "%time challenge_clip.write_videofile(challenge_output, audio=False)\n"
   ]
  },
  {
   "cell_type": "code",
   "execution_count": 23,
   "metadata": {},
   "outputs": [
    {
     "data": {
      "text/html": [
       "\n",
       "<video width=\"960\" height=\"540\" controls>\n",
       "  <source src=\"test_videos_output/challenge.mp4\">\n",
       "</video>\n"
      ],
      "text/plain": [
       "<IPython.core.display.HTML object>"
      ]
     },
     "execution_count": 23,
     "metadata": {},
     "output_type": "execute_result"
    }
   ],
   "source": [
    "HTML(\"\"\"\n",
    "<video width=\"960\" height=\"540\" controls>\n",
    "  <source src=\"{0}\">\n",
    "</video>\n",
    "\"\"\".format(challenge_output))\n"
   ]
  }
 ],
 "metadata": {
  "anaconda-cloud": {},
  "kernelspec": {
   "display_name": "Python 3",
   "language": "python",
   "name": "python3"
  },
  "language_info": {
   "codemirror_mode": {
    "name": "ipython",
    "version": 3
   },
   "file_extension": ".py",
   "mimetype": "text/x-python",
   "name": "python",
   "nbconvert_exporter": "python",
   "pygments_lexer": "ipython3",
   "version": "3.7.5"
  }
 },
 "nbformat": 4,
 "nbformat_minor": 1
}
